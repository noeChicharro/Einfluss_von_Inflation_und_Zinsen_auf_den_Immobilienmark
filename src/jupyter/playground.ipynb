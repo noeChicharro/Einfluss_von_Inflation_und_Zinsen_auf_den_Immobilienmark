{
 "cells": [
  {
   "cell_type": "code",
   "execution_count": 10,
   "id": "5b6c7e29",
   "metadata": {},
   "outputs": [
    {
     "data": {
      "text/plain": [
       "True"
      ]
     },
     "execution_count": 10,
     "metadata": {},
     "output_type": "execute_result"
    }
   ],
   "source": [
    "from pyecharts.globals import CurrentConfig, NotebookType\n",
    "from pyecharts.charts import Line\n",
    "from pyecharts import options as opts\n",
    "\n",
    "CurrentConfig.NOTEBOOK_TYPE = NotebookType.JUPYTER_LAB  # or NotebookType.NOTEBOOK\n",
    "\n",
    "# Create the line chart\n",
    "line = (\n",
    "    Line()\n",
    "    .add_xaxis(['Mon', 'Tue', 'Wed', 'Thu', 'Fri', 'Sat', 'Sun'])\n",
    "    .add_yaxis(\"\",\n",
    "               [150, 230, 224, 218, 135, 147, 260])\n",
    "    .set_global_opts(\n",
    "        xaxis_opts=opts.AxisOpts(type_='category'),\n",
    "        yaxis_opts=opts.AxisOpts(type_='value')\n",
    "    )\n",
    ")\n",
    "\n",
    "line.render('line_chart.html')\n",
    "\n",
    "# Display the output by linking to the generated HTML\n",
    "import webbrowser\n",
    "webbrowser.open('line_chart.html')"
   ]
  }
 ],
 "metadata": {
  "kernelspec": {
   "display_name": "Python 3",
   "language": "python",
   "name": "python3"
  },
  "language_info": {
   "codemirror_mode": {
    "name": "ipython",
    "version": 3
   },
   "file_extension": ".py",
   "mimetype": "text/x-python",
   "name": "python",
   "nbconvert_exporter": "python",
   "pygments_lexer": "ipython3",
   "version": "3.9.6"
  }
 },
 "nbformat": 4,
 "nbformat_minor": 5
}
