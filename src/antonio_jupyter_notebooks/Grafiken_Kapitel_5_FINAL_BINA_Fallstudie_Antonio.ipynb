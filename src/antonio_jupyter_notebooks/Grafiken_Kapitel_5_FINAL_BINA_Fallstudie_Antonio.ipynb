{
 "cells": [
  {
   "cell_type": "markdown",
   "id": "6963483b",
   "metadata": {},
   "source": [
    "# Kapitel 5: Forecasting & Zeitreihenanalyse\n",
    "\n",
    "## 5.1 Zielsetzung und Methodik\n",
    "Ziel dieses Kapitels ist es, auf Basis historischer Preisverläufe Prognosen für kommende Quartale zu erstellen. Dazu wird ARIMA verwendet."
   ]
  },
  {
   "cell_type": "code",
   "execution_count": null,
   "id": "fb23b82a",
   "metadata": {
    "vscode": {
     "languageId": "plaintext"
    }
   },
   "outputs": [],
   "source": []
  }
 ],
 "metadata": {
  "language_info": {
   "name": "python"
  }
 },
 "nbformat": 4,
 "nbformat_minor": 5
}
